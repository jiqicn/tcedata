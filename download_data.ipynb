{
 "cells": [
  {
   "cell_type": "code",
   "execution_count": 2,
   "id": "656c5035",
   "metadata": {},
   "outputs": [],
   "source": [
    "from tcedata import pvol"
   ]
  },
  {
   "cell_type": "code",
   "execution_count": 4,
   "id": "374fb481",
   "metadata": {},
   "outputs": [
    {
     "data": {
      "application/vnd.jupyter.widget-view+json": {
       "model_id": "67afc070e251459b9a8ae5b30c3b7070",
       "version_major": 2,
       "version_minor": 0
      },
      "text/plain": [
       "VBox(children=(HTML(value=\"<b style='font-size: large'>UvA FNWI Minio: Login</b>\"), HBox(children=(VBox(childr…"
      ]
     },
     "metadata": {},
     "output_type": "display_data"
    }
   ],
   "source": [
    "pvol.Minio().login()"
   ]
  }
 ],
 "metadata": {
  "kernelspec": {
   "display_name": "tcedata",
   "language": "python",
   "name": "tcedata"
  },
  "language_info": {
   "codemirror_mode": {
    "name": "ipython",
    "version": 3
   },
   "file_extension": ".py",
   "mimetype": "text/x-python",
   "name": "python",
   "nbconvert_exporter": "python",
   "pygments_lexer": "ipython3",
   "version": "3.7.10"
  }
 },
 "nbformat": 4,
 "nbformat_minor": 5
}
