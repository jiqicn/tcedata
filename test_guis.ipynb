{
 "cells": [
  {
   "cell_type": "code",
   "execution_count": 1,
   "id": "b501536c",
   "metadata": {},
   "outputs": [],
   "source": [
    "import tcedata as td"
   ]
  },
  {
   "cell_type": "code",
   "execution_count": 2,
   "id": "2c57cd8f",
   "metadata": {},
   "outputs": [
    {
     "data": {
      "application/vnd.jupyter.widget-view+json": {
       "model_id": "f828a97611344bf489f2b8036b6c9fa3",
       "version_major": 2,
       "version_minor": 0
      },
      "text/plain": [
       "VBox(children=(HTML(value='<b style=\"font-size: large\">Minio @UvA-TCE</b>'), Text(value='fnwi-s0.science.uva.n…"
      ]
     },
     "metadata": {},
     "output_type": "display_data"
    }
   ],
   "source": [
    "td.download_from_minio()"
   ]
  }
 ],
 "metadata": {
  "kernelspec": {
   "display_name": "tcedata",
   "language": "python",
   "name": "tcedata"
  },
  "language_info": {
   "codemirror_mode": {
    "name": "ipython",
    "version": 3
   },
   "file_extension": ".py",
   "mimetype": "text/x-python",
   "name": "python",
   "nbconvert_exporter": "python",
   "pygments_lexer": "ipython3",
   "version": "3.7.10"
  }
 },
 "nbformat": 4,
 "nbformat_minor": 5
}
