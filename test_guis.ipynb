{
 "cells": [
  {
   "cell_type": "code",
   "execution_count": 1,
   "id": "8bd9275d",
   "metadata": {},
   "outputs": [],
   "source": [
    "import tcedata as td"
   ]
  },
  {
   "cell_type": "code",
   "execution_count": 2,
   "id": "19681927",
   "metadata": {},
   "outputs": [
    {
     "data": {
      "application/vnd.jupyter.widget-view+json": {
       "model_id": "8af58cbf639e4b2780637a3994a6fdc8",
       "version_major": 2,
       "version_minor": 0
      },
      "text/plain": [
       "VBox(children=(HTML(value='<b style=\"font-size: large\">Minio @UvA-TCE</b>'), Text(value='fnwi-s0.science.uva.n…"
      ]
     },
     "metadata": {},
     "output_type": "display_data"
    }
   ],
   "source": [
    "td.get_files_from_minio()"
   ]
  }
 ],
 "metadata": {
  "kernelspec": {
   "display_name": "tcedata",
   "language": "python",
   "name": "tcedata"
  },
  "language_info": {
   "codemirror_mode": {
    "name": "ipython",
    "version": 3
   },
   "file_extension": ".py",
   "mimetype": "text/x-python",
   "name": "python",
   "nbconvert_exporter": "python",
   "pygments_lexer": "ipython3",
   "version": "3.7.10"
  }
 },
 "nbformat": 4,
 "nbformat_minor": 5
}
