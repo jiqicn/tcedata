{
 "cells": [
  {
   "cell_type": "code",
   "execution_count": 1,
   "id": "9db3f469",
   "metadata": {},
   "outputs": [],
   "source": [
    "import tcedata as td"
   ]
  },
  {
   "cell_type": "code",
   "execution_count": 2,
   "id": "a978c130",
   "metadata": {},
   "outputs": [
    {
     "data": {
      "application/vnd.jupyter.widget-view+json": {
       "model_id": "91d2a83f7bbd456e91a6c8a5bfc6444b",
       "version_major": 2,
       "version_minor": 0
      },
      "text/plain": [
       "VBox(children=(HTML(value='<b style=\"font-size: large\">Minio @UvA-TCE</b>'), Text(value='fnwi-s0.science.uva.n…"
      ]
     },
     "metadata": {},
     "output_type": "display_data"
    }
   ],
   "source": [
    "td.get_files_from_minio()"
   ]
  }
 ],
 "metadata": {
  "kernelspec": {
   "display_name": "tcedata",
   "language": "python",
   "name": "tcedata"
  },
  "language_info": {
   "codemirror_mode": {
    "name": "ipython",
    "version": 3
   },
   "file_extension": ".py",
   "mimetype": "text/x-python",
   "name": "python",
   "nbconvert_exporter": "python",
   "pygments_lexer": "ipython3",
   "version": "3.8.12"
  }
 },
 "nbformat": 4,
 "nbformat_minor": 5
}
