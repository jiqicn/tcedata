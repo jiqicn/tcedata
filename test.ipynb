{
 "cells": [
  {
   "cell_type": "code",
   "execution_count": 1,
   "id": "bae6fe61",
   "metadata": {},
   "outputs": [],
   "source": [
    "import tcedata as td"
   ]
  },
  {
   "cell_type": "code",
   "execution_count": 2,
   "id": "02ea4818",
   "metadata": {},
   "outputs": [
    {
     "name": "stdout",
     "output_type": "stream",
     "text": [
      "* Login successfully!\n"
     ]
    }
   ],
   "source": [
    "# test Pvol class\n",
    "m = td.Minio()\n",
    "m.login()"
   ]
  },
  {
   "cell_type": "code",
   "execution_count": 3,
   "id": "13e6823d",
   "metadata": {},
   "outputs": [
    {
     "data": {
      "text/plain": [
       "['pvol', 'pvolclutter', 'rbc', 'rbcnew', 'verticalprofile', 'vpclutter']"
      ]
     },
     "execution_count": 3,
     "metadata": {},
     "output_type": "execute_result"
    }
   ],
   "source": [
    "m.get_bucket_list()"
   ]
  },
  {
   "cell_type": "code",
   "execution_count": 4,
   "id": "2091bc52",
   "metadata": {},
   "outputs": [],
   "source": [
    "m.select_bucket('pvol')"
   ]
  },
  {
   "cell_type": "code",
   "execution_count": 17,
   "id": "c8ee68b6",
   "metadata": {},
   "outputs": [
    {
     "data": {
      "text/plain": [
       "['BE/',\n",
       " 'DE/',\n",
       " 'NL/',\n",
       " 'UK/',\n",
       " 'baltrad/',\n",
       " 'nlexploration/',\n",
       " 'ukexploration/',\n",
       " 'ukexplorationtest/']"
      ]
     },
     "execution_count": 17,
     "metadata": {},
     "output_type": "execute_result"
    }
   ],
   "source": [
    "m.navigate()\n",
    "m.get_object_list()"
   ]
  },
  {
   "cell_type": "code",
   "execution_count": 11,
   "id": "a4eb6237",
   "metadata": {},
   "outputs": [
    {
     "name": "stdout",
     "output_type": "stream",
     "text": [
      "* Download successfully to ./BE/JAB/2014/02/01/\n"
     ]
    }
   ],
   "source": [
    "m.download_to_files(['BEJAB_pvol_20140201T0004_06410.h5'], './')"
   ]
  }
 ],
 "metadata": {
  "kernelspec": {
   "display_name": "meteovis",
   "language": "python",
   "name": "meteovis"
  },
  "language_info": {
   "codemirror_mode": {
    "name": "ipython",
    "version": 3
   },
   "file_extension": ".py",
   "mimetype": "text/x-python",
   "name": "python",
   "nbconvert_exporter": "python",
   "pygments_lexer": "ipython3",
   "version": "3.8.11"
  }
 },
 "nbformat": 4,
 "nbformat_minor": 5
}
